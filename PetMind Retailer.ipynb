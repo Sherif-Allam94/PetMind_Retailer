{
 "cells": [
  {
   "cell_type": "markdown",
   "id": "c6d65298",
   "metadata": {},
   "source": [
    "# Practical Exam: Pet Box Subscription"
   ]
  },
  {
   "cell_type": "markdown",
   "id": "fbcbfbc6",
   "metadata": {},
   "source": [
    "Import libraries"
   ]
  },
  {
   "cell_type": "code",
   "execution_count": 146,
   "id": "9884c8c5",
   "metadata": {},
   "outputs": [],
   "source": [
    "import pandas as pd\n",
    "import numpy as np\n",
    "import matplotlib.pyplot as plt\n",
    "import seaborn as sns"
   ]
  },
  {
   "cell_type": "code",
   "execution_count": 147,
   "id": "26d1a065",
   "metadata": {},
   "outputs": [],
   "source": [
    "df = pd.read_csv('pet_supplies_2212.csv')"
   ]
  },
  {
   "cell_type": "markdown",
   "id": "1e816f69",
   "metadata": {},
   "source": [
    "Data investigation"
   ]
  },
  {
   "cell_type": "code",
   "execution_count": 148,
   "id": "6a19c9db",
   "metadata": {},
   "outputs": [
    {
     "data": {
      "text/html": [
       "<div>\n",
       "<style scoped>\n",
       "    .dataframe tbody tr th:only-of-type {\n",
       "        vertical-align: middle;\n",
       "    }\n",
       "\n",
       "    .dataframe tbody tr th {\n",
       "        vertical-align: top;\n",
       "    }\n",
       "\n",
       "    .dataframe thead th {\n",
       "        text-align: right;\n",
       "    }\n",
       "</style>\n",
       "<table border=\"1\" class=\"dataframe\">\n",
       "  <thead>\n",
       "    <tr style=\"text-align: right;\">\n",
       "      <th></th>\n",
       "      <th>product_id</th>\n",
       "      <th>category</th>\n",
       "      <th>animal</th>\n",
       "      <th>size</th>\n",
       "      <th>price</th>\n",
       "      <th>sales</th>\n",
       "      <th>rating</th>\n",
       "      <th>repeat_purchase</th>\n",
       "    </tr>\n",
       "  </thead>\n",
       "  <tbody>\n",
       "    <tr>\n",
       "      <th>0</th>\n",
       "      <td>1</td>\n",
       "      <td>Food</td>\n",
       "      <td>Bird</td>\n",
       "      <td>large</td>\n",
       "      <td>51.1</td>\n",
       "      <td>1860.62</td>\n",
       "      <td>7.0</td>\n",
       "      <td>1</td>\n",
       "    </tr>\n",
       "    <tr>\n",
       "      <th>1</th>\n",
       "      <td>2</td>\n",
       "      <td>Housing</td>\n",
       "      <td>Bird</td>\n",
       "      <td>MEDIUM</td>\n",
       "      <td>35.98</td>\n",
       "      <td>963.60</td>\n",
       "      <td>6.0</td>\n",
       "      <td>0</td>\n",
       "    </tr>\n",
       "    <tr>\n",
       "      <th>2</th>\n",
       "      <td>3</td>\n",
       "      <td>Food</td>\n",
       "      <td>Dog</td>\n",
       "      <td>medium</td>\n",
       "      <td>31.23</td>\n",
       "      <td>898.30</td>\n",
       "      <td>5.0</td>\n",
       "      <td>1</td>\n",
       "    </tr>\n",
       "    <tr>\n",
       "      <th>3</th>\n",
       "      <td>4</td>\n",
       "      <td>Medicine</td>\n",
       "      <td>Cat</td>\n",
       "      <td>small</td>\n",
       "      <td>24.95</td>\n",
       "      <td>982.15</td>\n",
       "      <td>6.0</td>\n",
       "      <td>1</td>\n",
       "    </tr>\n",
       "    <tr>\n",
       "      <th>4</th>\n",
       "      <td>5</td>\n",
       "      <td>Housing</td>\n",
       "      <td>Cat</td>\n",
       "      <td>Small</td>\n",
       "      <td>26.18</td>\n",
       "      <td>832.63</td>\n",
       "      <td>7.0</td>\n",
       "      <td>1</td>\n",
       "    </tr>\n",
       "  </tbody>\n",
       "</table>\n",
       "</div>"
      ],
      "text/plain": [
       "   product_id  category animal    size  price    sales  rating  \\\n",
       "0           1      Food   Bird   large   51.1  1860.62     7.0   \n",
       "1           2   Housing   Bird  MEDIUM  35.98   963.60     6.0   \n",
       "2           3      Food    Dog  medium  31.23   898.30     5.0   \n",
       "3           4  Medicine    Cat   small  24.95   982.15     6.0   \n",
       "4           5   Housing    Cat   Small  26.18   832.63     7.0   \n",
       "\n",
       "   repeat_purchase  \n",
       "0                1  \n",
       "1                0  \n",
       "2                1  \n",
       "3                1  \n",
       "4                1  "
      ]
     },
     "execution_count": 148,
     "metadata": {},
     "output_type": "execute_result"
    }
   ],
   "source": [
    "df.head()"
   ]
  },
  {
   "cell_type": "code",
   "execution_count": 149,
   "id": "334f39d7",
   "metadata": {},
   "outputs": [
    {
     "data": {
      "text/plain": [
       "(1500, 8)"
      ]
     },
     "execution_count": 149,
     "metadata": {},
     "output_type": "execute_result"
    }
   ],
   "source": [
    "df.shape"
   ]
  },
  {
   "cell_type": "code",
   "execution_count": 150,
   "id": "ba4d7c4e",
   "metadata": {
    "scrolled": true
   },
   "outputs": [
    {
     "data": {
      "text/plain": [
       "product_id           0\n",
       "category             0\n",
       "animal               0\n",
       "size                 0\n",
       "price                0\n",
       "sales                0\n",
       "repeat_purchase      0\n",
       "rating             150\n",
       "dtype: int64"
      ]
     },
     "execution_count": 150,
     "metadata": {},
     "output_type": "execute_result"
    }
   ],
   "source": [
    "df.isna().sum().sort_values()"
   ]
  },
  {
   "cell_type": "code",
   "execution_count": 151,
   "id": "c31ff223",
   "metadata": {},
   "outputs": [
    {
     "name": "stdout",
     "output_type": "stream",
     "text": [
      "<class 'pandas.core.frame.DataFrame'>\n",
      "RangeIndex: 1500 entries, 0 to 1499\n",
      "Data columns (total 8 columns):\n",
      " #   Column           Non-Null Count  Dtype  \n",
      "---  ------           --------------  -----  \n",
      " 0   product_id       1500 non-null   int64  \n",
      " 1   category         1500 non-null   object \n",
      " 2   animal           1500 non-null   object \n",
      " 3   size             1500 non-null   object \n",
      " 4   price            1500 non-null   object \n",
      " 5   sales            1500 non-null   float64\n",
      " 6   rating           1350 non-null   float64\n",
      " 7   repeat_purchase  1500 non-null   int64  \n",
      "dtypes: float64(2), int64(2), object(4)\n",
      "memory usage: 93.9+ KB\n"
     ]
    }
   ],
   "source": [
    "df.info()"
   ]
  },
  {
   "cell_type": "code",
   "execution_count": 152,
   "id": "ed3b635f",
   "metadata": {
    "scrolled": false
   },
   "outputs": [
    {
     "name": "stdout",
     "output_type": "stream",
     "text": [
      "product_id\n",
      "[   1    2    3 ... 1498 1499 1500]\n",
      "##################################################\n",
      "category\n",
      "['Food' 'Housing' 'Medicine' 'Toys' 'Equipment' 'Accessory' '-']\n",
      "##################################################\n",
      "animal\n",
      "['Bird' 'Dog' 'Cat' 'Fish']\n",
      "##################################################\n",
      "size\n",
      "['large' 'MEDIUM' 'medium' 'small' 'Small' 'Large' 'SMALL' 'Medium'\n",
      " 'LARGE']\n",
      "##################################################\n",
      "price\n",
      "['51.1' '35.98' '31.23' '24.95' '26.18' '30.77' '31.04' '28.9' '17.82'\n",
      " '24.93' '40.87' '34.96' '31.07' '40.8' '33.13' '43.09' '28.29' '43.91'\n",
      " '33.87' '44' 'unlisted' '41' '32.98' '22.99' '38.99' '45.83' '28.24'\n",
      " '28.19' '27.79' '38.86' '22.89' '26.07' '28.02' '23.99' '28.25' '30.87'\n",
      " '28.09' '29.01' '26.13' '54.03' '31.2' '30.92' '20.95' '17.98' '27.7'\n",
      " '24.8' '31.09' '19.83' '33.15' '21.25' '38.06' '30.89' '35.04' '26.03'\n",
      " '33.94' '25.81' '32.99' '17.9' '30.96' '40.93' '24.98' '26.08' '23.08'\n",
      " '26' '22.95' '39.03' '23.19' '31' '21.05' '31.5' '24.7' '27.76' '18.06'\n",
      " '28.43' '43.99' '41.03' '28.28' '25.96' '27.86' '38.95' '36.22' '23.02'\n",
      " '21.14' '42.99' '27.95' '38' '28.2' '39.16' '25.07' '15' '35.95' '30.03'\n",
      " '22.98' '27.97' '28.74' '26.05' '45.99' '25.83' '22.75' '28.03' '29.02'\n",
      " '26.32' '27.99' '34.18' '21.07' '25.97' '23.14' '42.85' '34.08' '22.97'\n",
      " '24.24' '41.02' '41.04' '22.68' '24.83' '27.77' '50.92' '41.01' '36.08'\n",
      " '21.12' '16.11' '29.99' '34.17' '19.76' '30.86' '24.94' '51.18' '20.06'\n",
      " '27.93' '26.24' '25.88' '28.17' '39.26' '28.07' '34.03' '41.08' '25.05'\n",
      " '19.88' '50.99' '15.91' '20.79' '40.88' '26.3' '22.86' '34.11' '34.02'\n",
      " '20.03' '26.67' '41.15' '33.1' '28.31' '25.06' '27.98' '25.02' '27.65'\n",
      " '33.09' '28' '23.01' '46.02' '45.94' '28.04' '38.87' '20.05' '19.86'\n",
      " '35.99' '22.9' '48.91' '25.91' '33.03' '27.89' '35.97' '23.16' '35.89'\n",
      " '25.84' '34.85' '22.94' '31.08' '25.16' '50.84' '32.91' '27.74' '36.03'\n",
      " '30.75' '23.05' '24.05' '27.96' '33.93' '23.28' '34.01' '16.23' '24.03'\n",
      " '19.87' '21.02' '42.97' '38.32' '24.96' '23.07' '12.89' '25.09' '32.96'\n",
      " '21.22' '28.33' '38.89' '35.87' '25.92' '18.08' '28.92' '23.12' '27.87'\n",
      " '35.03' '22.93' '15.03' '43.9' '29' '26.1' '41.11' '28.1' '27.82' '34'\n",
      " '50.9' '50.98' '29.19' '54.05' '24.16' '43.92' '15.05' '26.06' '33.91'\n",
      " '30.97' '33.97' '34.12' '22.92' '25.19' '30.85' '28.18' '30.82' '28.42'\n",
      " '20.89' '27.91' '33.84' '34.53' '28.86' '41.14' '30.99' '25.99' '39'\n",
      " '25.98' '27.84' '29.13' '19.84' '24.85' '33.78' '27.78' '28.05' '30.73'\n",
      " '19.99' '28.11' '46.16' '42.93' '34.88' '28.36' '33.99' '44.07' '31.22'\n",
      " '46.11' '22.91' '33.11' '32.79' '27.81' '27.92' '28.97' '18.12' '21.04'\n",
      " '27.9' '22.88' '20.21' '27.88' '35.76' '25.76' '34.09' '35.11' '40.89'\n",
      " '28.15' '23.86' '23.11' '33.14' '28.06' '28.85' '42.88' '21.36' '19.95'\n",
      " '34.24' '41.13' '26.19' '26.44' '26.01' '27.94' '20.92' '31.16' '22.87'\n",
      " '21.03' '50.91' '32.95' '36.04' '30.18' '38.84' '45.78' '26.29' '20.87'\n",
      " '33.89' '31.19' '34.47' '43.95' '40.99' '18.01' '24.06' '40.9' '24.02'\n",
      " '54.16' '34.1' '42.82' '28.98' '43.12' '17.95' '42.92' '26.33' '25.17'\n",
      " '45.06' '24.76' '20.09' '29.98' '19.98' '26.15' '53.97' '43.04' '51.04'\n",
      " '28.3' '19.94' '26.22' '14.99' '38.98' '23.09' '39.79' '43.03' '24.74'\n",
      " '15.95' '30.93' '27.83' '30.81' '40.83' '40.91' '25.7' '31.03' '37.89'\n",
      " '36.01' '16.17' '15.94' '40.97' '33.04' '26.2' '39.19' '19.97' '36'\n",
      " '38.66' '23.95' '25.93' '25.29' '44.03' '25.9' '19.91' '26.09' '19.89'\n",
      " '33.06' '22.69' '24.78' '29.09' '18.09' '20.11' '36.09' '24.88' '34.28'\n",
      " '29.05' '49.02' '28.27' '28.84' '14.94' '35.05' '28.89' '39.21' '41.12'\n",
      " '29.25' '34.33' '30.94' '34.23' '29.16' '28.13' '32.97' '20.98' '23.82'\n",
      " '23.33' '35.96' '33' '23' '28.91' '42.86' '43.01' '25.85' '28.79' '25.2'\n",
      " '30.08' '34.25' '24.82' '40.96' '20' '34.06' '15.99' '15.14' '36.05'\n",
      " '25.04' '15.16' '20.84' '39.09' '31.15' '33.86' '30.74' '27.85' '31.27'\n",
      " '54.02' '26.16' '35.92' '25.86' '36.07' '24.92' '18.14' '12.85' '26.11'\n",
      " '19.78' '25.94' '39.07' '29.22' '24.9' '15.21' '25' '14.96' '25.82'\n",
      " '28.93' '35.84' '30.84' '25.95' '43.13' '36.12' '22.8' '36.02' '36.21'\n",
      " '34.93' '22.84' '24.86' '23.03' '18.1' '29.11' '22.96' '17.99' '20.83'\n",
      " '29.86' '18.22' '23.92' '45.98' '34.95' '25.72' '25.03' '20.13' '21.01'\n",
      " '35.09' '39.24' '16.1' '34.05' '41.07' '16.02' '36.16' '32.85' '34.94'\n",
      " '29.26' '27.71' '39.01' '23.18' '22.7' '43.16' '41.1' '13.13' '34.29'\n",
      " '46.22' '16.12' '31.06' '25.87' '30.9' '30.8' '27.69' '23.89' '40.92'\n",
      " '25.46' '33.95' '28.14' '29.95' '23.13' '30.98' '20.02' '24.91' '33.88'\n",
      " '16.16' '20.07' '14.89' '33.08' '25.1' '19.93' '31.14' '21.21' '37.87'\n",
      " '28.12' '28.99' '16.03' '20.99' '18.13' '34.07' '28.22' '30.12' '34.15'\n",
      " '28.08' '25.78' '30.78' '31.11' '43.1' '20.04' '23.06' '34.21' '41.32'\n",
      " '16.08' '43.97' '35.85' '23.9' '43.85' '33.92' '38.79' '34.04' '20.26'\n",
      " '26.02' '30.02' '31.01' '16.19' '51.05' '21.1' '35.88' '35.07' '38.77'\n",
      " '28.82' '28.95' '40.81' '16.07' '31.12' '28.94' '20.91' '25.26' '20.15'\n",
      " '20.82' '46.04' '29.24' '28.01' '26.12' '15.09' '22.81' '39.38' '15.98'\n",
      " '21.19' '43.2' '33.85' '28.96' '28.88' '43.05' '30.95' '26.14' '32.84'\n",
      " '33.2' '50.93' '23.1' '35.78' '54.07' '15.06' '33.01' '40.85' '22.83'\n",
      " '21.15' '29.04' '16' '39.97' '23.23' '16.31' '46.03' '40.12' '21.09'\n",
      " '14.91' '34.89' '40.94' '33.19' '29.93' '44.99' '39.08' '30.14' '35.13'\n",
      " '29.28' '15.86' '29.89' '33.9' '20.97' '25.13' '26.23' '24.84' '31.13'\n",
      " '23.32' '22.67' '25.24' '29.14' '22.85' '29.06' '20.25' '31.17' '28.23'\n",
      " '29.08' '25.12' '40.82' '30.2' '29.15' '25.08' '29.78' '33.82' '23.91'\n",
      " '38.18' '30' '39.32' '29.17' '31.24' '15.82' '35.82' '21.23' '23.04'\n",
      " '43.06' '16.01' '48.58' '18.02' '34.97' '28.69' '31.05' '14.97' '18.05'\n",
      " '35.91' '33.05' '42.96' '23.17' '41.18' '28.26' '29.91' '34.87' '22.77'\n",
      " '46.01' '36.18' '43.07' '25.52' '32.74' '15.77' '43.84' '33.43' '37.92'\n",
      " '42.91' '28.75' '15.22' '29.35' '39.04' '13.02' '29.92' '32.82' '29.53'\n",
      " '46.18' '21.08' '27.75' '23.15' '18.24' '48' '29.1' '17.93' '26.53'\n",
      " '23.25' '25.71' '25.35' '32.9' '51.06' '15.08' '33.79' '42.98' '17.94'\n",
      " '21' '29.79' '45.96' '29.81' '41.16' '40.98' '20.14' '39.96' '32.89'\n",
      " '25.79']\n",
      "##################################################\n",
      "sales\n",
      "[1860.62  963.6   898.3  ... 1099.97  724.02  826.08]\n",
      "##################################################\n",
      "rating\n",
      "[ 7.  6.  5.  4.  8.  1.  3. nan  2.  9.]\n",
      "##################################################\n",
      "repeat_purchase\n",
      "[1 0]\n",
      "##################################################\n"
     ]
    }
   ],
   "source": [
    "for col in df.columns:\n",
    "    print(col)\n",
    "    print(pd.unique(df[col]))\n",
    "    print('#'*50)"
   ]
  },
  {
   "cell_type": "markdown",
   "id": "a8d70ffe",
   "metadata": {},
   "source": [
    "Data cleaning"
   ]
  },
  {
   "cell_type": "code",
   "execution_count": 153,
   "id": "f5b5905c",
   "metadata": {},
   "outputs": [
    {
     "data": {
      "text/plain": [
       "array(['Food', 'Housing', 'Medicine', 'Toys', 'Equipment', 'Accessory',\n",
       "       'Unknown'], dtype=object)"
      ]
     },
     "execution_count": 153,
     "metadata": {},
     "output_type": "execute_result"
    }
   ],
   "source": [
    "df['category'] = df[['category']].replace('-','Unknown')\n",
    "pd.unique(df['category'])"
   ]
  },
  {
   "cell_type": "code",
   "execution_count": 154,
   "id": "4533bd0f",
   "metadata": {},
   "outputs": [
    {
     "data": {
      "text/plain": [
       "array(['Large', 'Medium', 'Small'], dtype=object)"
      ]
     },
     "execution_count": 154,
     "metadata": {},
     "output_type": "execute_result"
    }
   ],
   "source": [
    "df['size'] = df['size'].str.capitalize()\n",
    "pd.unique(df['size'])"
   ]
  },
  {
   "cell_type": "code",
   "execution_count": 155,
   "id": "8bffcef1",
   "metadata": {},
   "outputs": [
    {
     "data": {
      "text/plain": [
       "28.064999999999998"
      ]
     },
     "execution_count": 155,
     "metadata": {},
     "output_type": "execute_result"
    }
   ],
   "source": [
    "df1=df\n",
    "df1['price'] = df1[['price']].replace('unlisted', np.nan).astype(float)\n",
    "price_median = df1['price'].median()\n",
    "price_median"
   ]
  },
  {
   "cell_type": "code",
   "execution_count": 156,
   "id": "9dfc98c3",
   "metadata": {},
   "outputs": [
    {
     "data": {
      "text/plain": [
       "array([51.1 , 35.98, 31.23, 24.95, 26.18, 30.77, 31.04, 28.9 , 17.82,\n",
       "       24.93])"
      ]
     },
     "execution_count": 156,
     "metadata": {},
     "output_type": "execute_result"
    }
   ],
   "source": [
    "df['price'] = df[['price']].replace(np.nan, price_median).round(2)\n",
    "pd.unique(df['price'])[:10]"
   ]
  },
  {
   "cell_type": "code",
   "execution_count": 157,
   "id": "d73b0ca4",
   "metadata": {},
   "outputs": [
    {
     "data": {
      "text/plain": [
       "array([7, 6, 5, 4, 8, 1, 3, 0, 2, 9])"
      ]
     },
     "execution_count": 157,
     "metadata": {},
     "output_type": "execute_result"
    }
   ],
   "source": [
    "df['rating'] = df[['rating']].replace(np.nan, 0).astype(int)\n",
    "pd.unique(df['rating'])"
   ]
  },
  {
   "cell_type": "code",
   "execution_count": 158,
   "id": "1b626c69",
   "metadata": {},
   "outputs": [
    {
     "name": "stdout",
     "output_type": "stream",
     "text": [
      "<class 'pandas.core.frame.DataFrame'>\n",
      "RangeIndex: 1500 entries, 0 to 1499\n",
      "Data columns (total 8 columns):\n",
      " #   Column           Non-Null Count  Dtype  \n",
      "---  ------           --------------  -----  \n",
      " 0   product_id       1500 non-null   int64  \n",
      " 1   category         1500 non-null   object \n",
      " 2   animal           1500 non-null   object \n",
      " 3   size             1500 non-null   object \n",
      " 4   price            1500 non-null   float64\n",
      " 5   sales            1500 non-null   float64\n",
      " 6   rating           1500 non-null   int32  \n",
      " 7   repeat_purchase  1500 non-null   int64  \n",
      "dtypes: float64(2), int32(1), int64(2), object(3)\n",
      "memory usage: 88.0+ KB\n"
     ]
    }
   ],
   "source": [
    "df.info()"
   ]
  },
  {
   "cell_type": "code",
   "execution_count": 159,
   "id": "d8aa753c",
   "metadata": {},
   "outputs": [
    {
     "data": {
      "text/html": [
       "<div>\n",
       "<style scoped>\n",
       "    .dataframe tbody tr th:only-of-type {\n",
       "        vertical-align: middle;\n",
       "    }\n",
       "\n",
       "    .dataframe tbody tr th {\n",
       "        vertical-align: top;\n",
       "    }\n",
       "\n",
       "    .dataframe thead th {\n",
       "        text-align: right;\n",
       "    }\n",
       "</style>\n",
       "<table border=\"1\" class=\"dataframe\">\n",
       "  <thead>\n",
       "    <tr style=\"text-align: right;\">\n",
       "      <th></th>\n",
       "      <th>product_id</th>\n",
       "      <th>category</th>\n",
       "      <th>animal</th>\n",
       "      <th>size</th>\n",
       "      <th>price</th>\n",
       "      <th>sales</th>\n",
       "      <th>rating</th>\n",
       "      <th>repeat_purchase</th>\n",
       "    </tr>\n",
       "  </thead>\n",
       "  <tbody>\n",
       "    <tr>\n",
       "      <th>0</th>\n",
       "      <td>1</td>\n",
       "      <td>Food</td>\n",
       "      <td>Bird</td>\n",
       "      <td>Large</td>\n",
       "      <td>51.10</td>\n",
       "      <td>1860.62</td>\n",
       "      <td>7</td>\n",
       "      <td>1</td>\n",
       "    </tr>\n",
       "    <tr>\n",
       "      <th>1</th>\n",
       "      <td>2</td>\n",
       "      <td>Housing</td>\n",
       "      <td>Bird</td>\n",
       "      <td>Medium</td>\n",
       "      <td>35.98</td>\n",
       "      <td>963.60</td>\n",
       "      <td>6</td>\n",
       "      <td>0</td>\n",
       "    </tr>\n",
       "    <tr>\n",
       "      <th>2</th>\n",
       "      <td>3</td>\n",
       "      <td>Food</td>\n",
       "      <td>Dog</td>\n",
       "      <td>Medium</td>\n",
       "      <td>31.23</td>\n",
       "      <td>898.30</td>\n",
       "      <td>5</td>\n",
       "      <td>1</td>\n",
       "    </tr>\n",
       "    <tr>\n",
       "      <th>3</th>\n",
       "      <td>4</td>\n",
       "      <td>Medicine</td>\n",
       "      <td>Cat</td>\n",
       "      <td>Small</td>\n",
       "      <td>24.95</td>\n",
       "      <td>982.15</td>\n",
       "      <td>6</td>\n",
       "      <td>1</td>\n",
       "    </tr>\n",
       "    <tr>\n",
       "      <th>4</th>\n",
       "      <td>5</td>\n",
       "      <td>Housing</td>\n",
       "      <td>Cat</td>\n",
       "      <td>Small</td>\n",
       "      <td>26.18</td>\n",
       "      <td>832.63</td>\n",
       "      <td>7</td>\n",
       "      <td>1</td>\n",
       "    </tr>\n",
       "  </tbody>\n",
       "</table>\n",
       "</div>"
      ],
      "text/plain": [
       "   product_id  category animal    size  price    sales  rating  \\\n",
       "0           1      Food   Bird   Large  51.10  1860.62       7   \n",
       "1           2   Housing   Bird  Medium  35.98   963.60       6   \n",
       "2           3      Food    Dog  Medium  31.23   898.30       5   \n",
       "3           4  Medicine    Cat   Small  24.95   982.15       6   \n",
       "4           5   Housing    Cat   Small  26.18   832.63       7   \n",
       "\n",
       "   repeat_purchase  \n",
       "0                1  \n",
       "1                0  \n",
       "2                1  \n",
       "3                1  \n",
       "4                1  "
      ]
     },
     "execution_count": 159,
     "metadata": {},
     "output_type": "execute_result"
    }
   ],
   "source": [
    "df.head()"
   ]
  },
  {
   "cell_type": "code",
   "execution_count": 160,
   "id": "f10bbb2b",
   "metadata": {},
   "outputs": [],
   "source": [
    "df.to_csv('pet_supplies_cleaned.csv')"
   ]
  },
  {
   "cell_type": "markdown",
   "id": "617c6ed0",
   "metadata": {},
   "source": [
    "### Data Analysis"
   ]
  },
  {
   "cell_type": "code",
   "execution_count": 161,
   "id": "0281e008",
   "metadata": {
    "scrolled": false
   },
   "outputs": [
    {
     "data": {
      "text/html": [
       "<div>\n",
       "<style scoped>\n",
       "    .dataframe tbody tr th:only-of-type {\n",
       "        vertical-align: middle;\n",
       "    }\n",
       "\n",
       "    .dataframe tbody tr th {\n",
       "        vertical-align: top;\n",
       "    }\n",
       "\n",
       "    .dataframe thead th {\n",
       "        text-align: right;\n",
       "    }\n",
       "</style>\n",
       "<table border=\"1\" class=\"dataframe\">\n",
       "  <thead>\n",
       "    <tr style=\"text-align: right;\">\n",
       "      <th></th>\n",
       "      <th>category</th>\n",
       "      <th>repeat_purchase</th>\n",
       "    </tr>\n",
       "  </thead>\n",
       "  <tbody>\n",
       "    <tr>\n",
       "      <th>0</th>\n",
       "      <td>Accessory</td>\n",
       "      <td>70</td>\n",
       "    </tr>\n",
       "    <tr>\n",
       "      <th>1</th>\n",
       "      <td>Equipment</td>\n",
       "      <td>221</td>\n",
       "    </tr>\n",
       "    <tr>\n",
       "      <th>2</th>\n",
       "      <td>Food</td>\n",
       "      <td>151</td>\n",
       "    </tr>\n",
       "    <tr>\n",
       "      <th>3</th>\n",
       "      <td>Housing</td>\n",
       "      <td>152</td>\n",
       "    </tr>\n",
       "    <tr>\n",
       "      <th>4</th>\n",
       "      <td>Medicine</td>\n",
       "      <td>153</td>\n",
       "    </tr>\n",
       "    <tr>\n",
       "      <th>5</th>\n",
       "      <td>Toys</td>\n",
       "      <td>145</td>\n",
       "    </tr>\n",
       "    <tr>\n",
       "      <th>6</th>\n",
       "      <td>Unknown</td>\n",
       "      <td>14</td>\n",
       "    </tr>\n",
       "  </tbody>\n",
       "</table>\n",
       "</div>"
      ],
      "text/plain": [
       "    category  repeat_purchase\n",
       "0  Accessory               70\n",
       "1  Equipment              221\n",
       "2       Food              151\n",
       "3    Housing              152\n",
       "4   Medicine              153\n",
       "5       Toys              145\n",
       "6    Unknown               14"
      ]
     },
     "execution_count": 161,
     "metadata": {},
     "output_type": "execute_result"
    }
   ],
   "source": [
    "z= pd.DataFrame(df.groupby('category')['repeat_purchase'].sum()).reset_index()\n",
    "z"
   ]
  },
  {
   "cell_type": "code",
   "execution_count": 162,
   "id": "c735c424",
   "metadata": {
    "scrolled": false
   },
   "outputs": [
    {
     "data": {
      "image/png": "[encoded data removed]",
      "text/plain": [
       "<Figure size 864x720 with 1 Axes>"
      ]
     },
     "metadata": {},
     "output_type": "display_data"
    }
   ],
   "source": [
    "labels = z['category']\n",
    "values = z['repeat_purchase']\n",
    "colors = sns.color_palette('pastel')\n",
    "plt.figure(figsize = (12,10))\n",
    "plt.pie(values, labels = labels, colors = colors, autopct='%.0f%%', textprops={'fontsize': 12})\n",
    "plt.title('Percent of the repeated purchases per category', fontsize=15)\n",
    "plt.savefig('repeated_purchases_per_category.jpg',format=\"jpg\",dpi=500)\n",
    "plt.show()"
   ]
  },
  {
   "cell_type": "markdown",
   "id": "33692c41",
   "metadata": {},
   "source": [
    "From the pie chart the equipment category has the most repeated purchases 24%. The categories food, housing, and medicine are balanced having the same purchase percentage, followed by toys which have a 1% difference from the previous categories, the equipment category is taking the lead by 24% and the least repeated purchase categories are accessory and unknown. "
   ]
  },
  {
   "cell_type": "code",
   "execution_count": 163,
   "id": "267ebe71",
   "metadata": {},
   "outputs": [
    {
     "name": "stderr",
     "output_type": "stream",
     "text": [
      "C:\\Users\\G202112990\\Anaconda3\\lib\\site-packages\\seaborn\\_decorators.py:36: FutureWarning: Pass the following variable as a keyword arg: x. From version 0.12, the only valid positional argument will be `data`, and passing other arguments without an explicit keyword will result in an error or misinterpretation.\n",
      "  warnings.warn(\n"
     ]
    },
    {
     "data": {
      "image/png": "[encoded data removed]",
      "text/plain": [
       "<Figure size 720x432 with 2 Axes>"
      ]
     },
     "metadata": {},
     "output_type": "display_data"
    }
   ],
   "source": [
    "data=df[(df['repeat_purchase'] == 1) & (df['category'] == 'Equipment')]\n",
    "sns.set(style=\"ticks\")\n",
    "f, (ax_box, ax_hist) = plt.subplots(2, sharex=True, gridspec_kw={\"height_ratios\": (.15, .85)}, figsize=(10,6))\n",
    "plt.subplots_adjust(hspace=0)\n",
    "# Add a graph in each part\n",
    "sns.boxplot(data['rating'], ax=ax_box)\n",
    "sns.histplot(data['rating'], ax=ax_hist)\n",
    " \n",
    "# Remove x axis name for the boxplot\n",
    "ax_box.set(xlabel='')\n",
    "plt.title('Range of equipment rating', y=1.0, pad=60,fontsize=15)\n",
    "plt.savefig('boxhist.jpg', dpi=500)\n",
    "plt.show();"
   ]
  },
  {
   "cell_type": "markdown",
   "id": "b66b0c5d",
   "metadata": {},
   "source": [
    "The range of the equipment rating shows that 50% of the ratings are between 3 and 6 stars with median and mean around 5 stars, there are more 30 ratings have 7 stars or above and around 20 ratings with 0 rating."
   ]
  },
  {
   "cell_type": "code",
   "execution_count": 164,
   "id": "6e4fc62a",
   "metadata": {
    "scrolled": false
   },
   "outputs": [
    {
     "data": {
      "text/html": [
       "<div>\n",
       "<style scoped>\n",
       "    .dataframe tbody tr th:only-of-type {\n",
       "        vertical-align: middle;\n",
       "    }\n",
       "\n",
       "    .dataframe tbody tr th {\n",
       "        vertical-align: top;\n",
       "    }\n",
       "\n",
       "    .dataframe thead th {\n",
       "        text-align: right;\n",
       "    }\n",
       "</style>\n",
       "<table border=\"1\" class=\"dataframe\">\n",
       "  <thead>\n",
       "    <tr style=\"text-align: right;\">\n",
       "      <th></th>\n",
       "      <th>category</th>\n",
       "      <th>animal</th>\n",
       "      <th>size</th>\n",
       "      <th>sales</th>\n",
       "    </tr>\n",
       "  </thead>\n",
       "  <tbody>\n",
       "    <tr>\n",
       "      <th>0</th>\n",
       "      <td>Accessory</td>\n",
       "      <td>Bird</td>\n",
       "      <td>Large</td>\n",
       "      <td>55307.18</td>\n",
       "    </tr>\n",
       "    <tr>\n",
       "      <th>1</th>\n",
       "      <td>Accessory</td>\n",
       "      <td>Bird</td>\n",
       "      <td>Medium</td>\n",
       "      <td>12880.51</td>\n",
       "    </tr>\n",
       "    <tr>\n",
       "      <th>2</th>\n",
       "      <td>Accessory</td>\n",
       "      <td>Cat</td>\n",
       "      <td>Large</td>\n",
       "      <td>3003.40</td>\n",
       "    </tr>\n",
       "    <tr>\n",
       "      <th>3</th>\n",
       "      <td>Accessory</td>\n",
       "      <td>Cat</td>\n",
       "      <td>Medium</td>\n",
       "      <td>3086.95</td>\n",
       "    </tr>\n",
       "    <tr>\n",
       "      <th>4</th>\n",
       "      <td>Accessory</td>\n",
       "      <td>Cat</td>\n",
       "      <td>Small</td>\n",
       "      <td>2147.29</td>\n",
       "    </tr>\n",
       "  </tbody>\n",
       "</table>\n",
       "</div>"
      ],
      "text/plain": [
       "    category animal    size     sales\n",
       "0  Accessory   Bird   Large  55307.18\n",
       "1  Accessory   Bird  Medium  12880.51\n",
       "2  Accessory    Cat   Large   3003.40\n",
       "3  Accessory    Cat  Medium   3086.95\n",
       "4  Accessory    Cat   Small   2147.29"
      ]
     },
     "execution_count": 164,
     "metadata": {},
     "output_type": "execute_result"
    }
   ],
   "source": [
    "x=pd.DataFrame(df.groupby(['category','animal','size'])['sales'].sum()).reset_index()\n",
    "x.head()"
   ]
  },
  {
   "cell_type": "code",
   "execution_count": 165,
   "id": "96dcf587",
   "metadata": {},
   "outputs": [
    {
     "data": {
      "image/png": "[encoded data removed]",
      "text/plain": [
       "<Figure size 956.35x720 with 3 Axes>"
      ]
     },
     "metadata": {},
     "output_type": "display_data"
    }
   ],
   "source": [
    "sns.catplot(x='sales', y='animal', data=x.sort_values(by=['sales'], ascending=False), hue='category',\n",
    "             col='size', kind='bar',height=10, aspect=0.4)\n",
    "plt.subplots_adjust(top=0.935)\n",
    "plt.suptitle('The distribution of sales')\n",
    "plt.savefig('distribution_of_sales.jpg',format=\"jpg\",dpi=500)\n",
    "plt.show();"
   ]
  },
  {
   "cell_type": "markdown",
   "id": "9b54d219",
   "metadata": {},
   "source": [
    "The count plot shows the distribution of sales over the animal, size, and category. Starting with animals, cats are the most sold followed by birds and dogs, fish comes in the last place. The most sold sizes the small, large, and medium sizes come in second and third place, respectively. category wise, equipment is the most sold, then toys, accessories, food and medicine, housing and unknown come at the two last places. The plot shows the overall sales for each animal and category VS size, but it also allows tracking of sales each category for a specific animal and size. Cat's small size equipment and toys are achieving more than 300,000 sales, which is outperforming all other animals, categories and sizes."
   ]
  },
  {
   "cell_type": "code",
   "execution_count": 166,
   "id": "8e867320",
   "metadata": {},
   "outputs": [
    {
     "data": {
      "image/png": "[encoded data removed]",
      "text/plain": [
       "<Figure size 720x432 with 1 Axes>"
      ]
     },
     "metadata": {},
     "output_type": "display_data"
    }
   ],
   "source": [
    "repeat_purchase = len(df[df['repeat_purchase'] == 1])\n",
    "first_purchase = len(df[df['repeat_purchase'] == 0])\n",
    "plt.figure(figsize = (10,6))\n",
    "df[df['repeat_purchase'] == 1]['sales'].cumsum().plot(label= f'Repeated purchase - {repeat_purchase} purchase')\n",
    "df[df['repeat_purchase'] == 0]['sales'].cumsum().plot(label= f'First purchase - {first_purchase} purchase')\n",
    "plt.title('Cummulative sum of repeated and first purchases', fontsize=15)\n",
    "plt.xlabel('# of purchases',fontsize=12)\n",
    "plt.ylabel('Sales',fontsize=12)\n",
    "plt.legend(fontsize=12)\n",
    "plt.savefig('CumSum.jpg',format=\"jpg\",dpi=500)\n",
    "plt.show();"
   ]
  },
  {
   "cell_type": "markdown",
   "id": "1cc48be2",
   "metadata": {},
   "source": [
    "In order to describe the relationship between repeat sales and purchases a comparison between the cumulative sum of repeated and first purchases was conducted. The plot shows that the repeated purchases maximum sales value is around 850,000 and for the first purchase is almost 600,000. It is important to notice that repeated purchases are 1.5 times more than first-time purchases in the dataset."
   ]
  },
  {
   "cell_type": "code",
   "execution_count": 167,
   "id": "79c1c7f9",
   "metadata": {},
   "outputs": [
    {
     "data": {
      "image/png": "[encoded data removed]",
      "text/plain": [
       "<Figure size 720x432 with 1 Axes>"
      ]
     },
     "metadata": {},
     "output_type": "display_data"
    }
   ],
   "source": [
    "plt.figure(figsize = (10,6))\n",
    "sns.histplot(x='sales', data=df[df['repeat_purchase'] == 1],bins=35)\n",
    "plt.title('Range of repeated purchases', fontsize=15)\n",
    "plt.ylabel('# of purchases',fontsize=12)\n",
    "plt.xlabel('Sales',fontsize=12)\n",
    "plt.savefig('hist.jpg',format=\"jpg\",dpi=500)\n",
    "plt.show();"
   ]
  },
  {
   "cell_type": "markdown",
   "id": "4987d98b",
   "metadata": {},
   "source": [
    "The range of the repeated purchases shows that the most frequent sales are that of 1050. Less purchases are more than 1500 and most sales are distributed between 500 and 950."
   ]
  },
  {
   "cell_type": "markdown",
   "id": "9b6a6693",
   "metadata": {},
   "source": [
    "### Conclusion\n",
    "\n",
    "Based on the above analysis, the PetMind team should focus on the sales of equipment to increase the profit, and also they should pay attention to the accessories to increase its sharing percentage. Cats are the most loved animals in small sizes. Repeated purchases achieve sales more than first-time purchases by 250,000. Further analysis should be done using the rating to know the effect of rating on sales."
   ]
  },
  {
   "cell_type": "code",
   "execution_count": null,
   "id": "2c8baa18",
   "metadata": {},
   "outputs": [],
   "source": []
  }
 ],
 "metadata": {
  "kernelspec": {
   "display_name": "Python 3 (ipykernel)",
   "language": "python",
   "name": "python3"
  },
  "language_info": {
   "codemirror_mode": {
    "name": "ipython",
    "version": 3
   },
   "file_extension": ".py",
   "mimetype": "text/x-python",
   "name": "python",
   "nbconvert_exporter": "python",
   "pygments_lexer": "ipython3",
   "version": "3.9.12"
  }
 },
 "nbformat": 4,
 "nbformat_minor": 5
}
